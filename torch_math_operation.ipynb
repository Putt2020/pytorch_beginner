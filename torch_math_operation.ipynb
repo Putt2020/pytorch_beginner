{
  "nbformat": 4,
  "nbformat_minor": 0,
  "metadata": {
    "colab": {
      "provenance": [],
      "authorship_tag": "ABX9TyOQCbUuJMHDFZ+hKDIgRdsy",
      "include_colab_link": true
    },
    "kernelspec": {
      "name": "python3",
      "display_name": "Python 3"
    },
    "language_info": {
      "name": "python"
    }
  },
  "cells": [
    {
      "cell_type": "markdown",
      "metadata": {
        "id": "view-in-github",
        "colab_type": "text"
      },
      "source": [
        "<a href=\"https://colab.research.google.com/github/Putt2020/pytorch_beginner/blob/main/torch_math_operation.ipynb\" target=\"_parent\"><img src=\"https://colab.research.google.com/assets/colab-badge.svg\" alt=\"Open In Colab\"/></a>"
      ]
    },
    {
      "cell_type": "code",
      "execution_count": 1,
      "metadata": {
        "id": "YTXnAK4Lb2Dt"
      },
      "outputs": [],
      "source": [
        "import torch"
      ]
    },
    {
      "cell_type": "code",
      "source": [
        "a = torch.tensor([1,2,3,4])\n",
        "b = torch.tensor([1,3,5,7])\n",
        "c = torch.tensor([1,1,1,1])\n",
        "print(a, b, c)"
      ],
      "metadata": {
        "colab": {
          "base_uri": "https://localhost:8080/"
        },
        "id": "CSlBvn0wvsZc",
        "outputId": "a3372fc9-71ef-4833-f47a-99237a83e399"
      },
      "execution_count": 14,
      "outputs": [
        {
          "output_type": "stream",
          "name": "stdout",
          "text": [
            "tensor([1, 2, 3, 4]) tensor([1, 3, 5, 7]) tensor([1, 1, 1, 1])\n"
          ]
        }
      ]
    },
    {
      "cell_type": "code",
      "source": [
        "print(a + b)\n",
        "print(torch.add(a, b))\n",
        "print(a.add(b))"
      ],
      "metadata": {
        "colab": {
          "base_uri": "https://localhost:8080/"
        },
        "id": "eQmOElbfv6Em",
        "outputId": "3fc61f7d-274b-498e-e23b-ec2e8a190a58"
      },
      "execution_count": 13,
      "outputs": [
        {
          "output_type": "stream",
          "name": "stdout",
          "text": [
            "tensor([ 2,  5,  8, 11])\n",
            "tensor([ 2,  5,  8, 11])\n",
            "tensor([ 2,  5,  8, 11])\n"
          ]
        }
      ]
    },
    {
      "cell_type": "code",
      "source": [
        "print(a - b)\n",
        "print(torch.sub(a, b))"
      ],
      "metadata": {
        "colab": {
          "base_uri": "https://localhost:8080/"
        },
        "id": "KcI6cR0IwCId",
        "outputId": "8899781a-5128-46a9-85cc-9c6aae12f625"
      },
      "execution_count": 7,
      "outputs": [
        {
          "output_type": "stream",
          "name": "stdout",
          "text": [
            "tensor([ 0, -1, -2, -3])\n",
            "tensor([ 0, -1, -2, -3])\n"
          ]
        }
      ]
    },
    {
      "cell_type": "code",
      "source": [
        "print(a * b)\n",
        "print(torch.mul(a, b))"
      ],
      "metadata": {
        "colab": {
          "base_uri": "https://localhost:8080/"
        },
        "id": "v_8ldSyAwEVy",
        "outputId": "8dcf4251-5a2f-496c-b621-0fdb69e01fd5"
      },
      "execution_count": 8,
      "outputs": [
        {
          "output_type": "stream",
          "name": "stdout",
          "text": [
            "tensor([ 1,  6, 15, 28])\n",
            "tensor([ 1,  6, 15, 28])\n"
          ]
        }
      ]
    },
    {
      "cell_type": "code",
      "source": [
        "print(a / b)\n",
        "print(torch.div(a, b))"
      ],
      "metadata": {
        "colab": {
          "base_uri": "https://localhost:8080/"
        },
        "id": "7QENyTKdwcUU",
        "outputId": "721ee407-5951-4579-eaa1-fe26162fb254"
      },
      "execution_count": 9,
      "outputs": [
        {
          "output_type": "stream",
          "name": "stdout",
          "text": [
            "tensor([1.0000, 0.6667, 0.6000, 0.5714])\n",
            "tensor([1.0000, 0.6667, 0.6000, 0.5714])\n"
          ]
        }
      ]
    },
    {
      "cell_type": "code",
      "source": [
        "print(a % b)\n",
        "print(torch.remainder(a, b))"
      ],
      "metadata": {
        "colab": {
          "base_uri": "https://localhost:8080/"
        },
        "id": "7zqyfdW0wfMR",
        "outputId": "c02503f7-7bb4-4cca-a267-949f60cfcf70"
      },
      "execution_count": 11,
      "outputs": [
        {
          "output_type": "stream",
          "name": "stdout",
          "text": [
            "tensor([0, 2, 3, 4])\n",
            "tensor([0, 2, 3, 4])\n"
          ]
        }
      ]
    },
    {
      "cell_type": "code",
      "source": [
        "print(torch.pow(a, b))"
      ],
      "metadata": {
        "colab": {
          "base_uri": "https://localhost:8080/"
        },
        "id": "LfFP7RPYwks9",
        "outputId": "00f91f50-6b37-4d54-d49f-6e3a1c155059"
      },
      "execution_count": 12,
      "outputs": [
        {
          "output_type": "stream",
          "name": "stdout",
          "text": [
            "tensor([    1,     8,   243, 16384])\n"
          ]
        }
      ]
    },
    {
      "cell_type": "code",
      "source": [
        "#Reassignment\n",
        "c.add_(b)\n",
        "print(c)"
      ],
      "metadata": {
        "id": "yoDBERA-wxgI"
      },
      "execution_count": null,
      "outputs": []
    }
  ]
}