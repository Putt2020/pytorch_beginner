{
  "nbformat": 4,
  "nbformat_minor": 0,
  "metadata": {
    "colab": {
      "provenance": [],
      "authorship_tag": "ABX9TyMSf9ejtBeKu8ST7sJJLf30",
      "include_colab_link": true
    },
    "kernelspec": {
      "name": "python3",
      "display_name": "Python 3"
    },
    "language_info": {
      "name": "python"
    }
  },
  "cells": [
    {
      "cell_type": "markdown",
      "metadata": {
        "id": "view-in-github",
        "colab_type": "text"
      },
      "source": [
        "<a href=\"https://colab.research.google.com/github/Putt2020/pytorch_beginner/blob/main/pytorch_CNN_beginner.ipynb\" target=\"_parent\"><img src=\"https://colab.research.google.com/assets/colab-badge.svg\" alt=\"Open In Colab\"/></a>"
      ]
    },
    {
      "cell_type": "code",
      "execution_count": 2,
      "metadata": {
        "id": "dQ9nm4k9W9hN"
      },
      "outputs": [],
      "source": [
        "import torch\n",
        "import torch.nn as nn\n",
        "import torch.nn.functional as F\n",
        "import torch.optim as optim\n",
        "from torchvision import transforms, datasets\n",
        "from torch.utils.data import DataLoader\n",
        "from torchvision.utils import make_grid\n",
        "\n",
        "import matplotlib.pyplot as plt\n",
        "import numpy as np\n",
        "import pandas as pd\n",
        "import seaborn as sns\n",
        "%matplotlib inline\n",
        "\n",
        "from sklearn.metrics import confusion_matrix\n",
        "from sklearn.metrics import classification_report\n"
      ]
    },
    {
      "cell_type": "code",
      "source": [
        "transform = transforms.ToTensor()"
      ],
      "metadata": {
        "id": "aTdl3sOIXwEe"
      },
      "execution_count": 3,
      "outputs": []
    },
    {
      "cell_type": "code",
      "source": [
        "train_data = datasets.MNIST(root='./data', train=True, download=True, transform=transform)\n",
        "test_data = datasets.MNIST(root='./data', train=False, download=True, transform=transform)\n",
        "print(train_data)"
      ],
      "metadata": {
        "colab": {
          "base_uri": "https://localhost:8080/"
        },
        "id": "s31C4A9fYodI",
        "outputId": "85437c86-25cb-4cc6-e0b5-e9fc75e3dd35"
      },
      "execution_count": 5,
      "outputs": [
        {
          "output_type": "stream",
          "name": "stdout",
          "text": [
            "Dataset MNIST\n",
            "    Number of datapoints: 60000\n",
            "    Root location: ./data\n",
            "    Split: Train\n",
            "    StandardTransform\n",
            "Transform: ToTensor()\n"
          ]
        }
      ]
    },
    {
      "cell_type": "code",
      "source": [
        "# Create data loader with batch size of 32\n",
        "train_loader = DataLoader(train_data, batch_size=32, shuffle=True)\n",
        "test_loader = DataLoader(test_data, batch_size=32, shuffle=False)"
      ],
      "metadata": {
        "id": "xB3WLUaeZk7t"
      },
      "execution_count": 8,
      "outputs": []
    },
    {
      "cell_type": "code",
      "source": [
        "#Define CNN Model\n",
        "\n",
        "\"\"\"\n",
        "in_channels=1, input -> WxH image with 1 channel (grayscale)\n",
        "out_channels=10, -> Amount of feature layers we want to create (will get 10xW'xH')\n",
        "kernel_size=3, -> size of the filter in this case it is 3x3\n",
        "stride=1, -> how much the filter moves in this case is 1 pixel at a time\n",
        "padding=1 -> pad the border of the image with 0 i.e. from 10x10 to 12x12\n",
        "\"\"\"\n",
        "conv1 = nn.Conv2d(in_channels=1, out_channels=10, kernel_size=3, stride=1, padding=1)\n",
        "conv2 = nn.Conv2d(in_channels=10, out_channels=20, kernel_size=3, stride=1, padding=1)"
      ],
      "metadata": {
        "id": "YodL30gSbQWx"
      },
      "execution_count": 9,
      "outputs": []
    },
    {
      "cell_type": "code",
      "source": [
        "for i, (X_train, y_train) in enumerate(train_loader):\n",
        "    print(i, X_train.shape, y_train.shape)\n",
        "    break"
      ],
      "metadata": {
        "colab": {
          "base_uri": "https://localhost:8080/"
        },
        "id": "F510Czozc3Ob",
        "outputId": "97f860e3-f0e4-4e97-c7ef-268cbc1fe6cc"
      },
      "execution_count": 10,
      "outputs": [
        {
          "output_type": "stream",
          "name": "stdout",
          "text": [
            "0 torch.Size([32, 1, 28, 28]) torch.Size([32])\n"
          ]
        }
      ]
    },
    {
      "cell_type": "code",
      "source": [
        "# Create CNN model class\n",
        "class CNN_Model(nn.Module):\n",
        "    def __init__(self):\n",
        "        super(CNN_Model, self).__init__()\n",
        "        self.conv1 = nn.Conv2d(in_channels=1, out_channels=10, kernel_size=3, stride=1, padding=1) #from (32,1,28,28) to (32,10,28,28) becasue kernel = -2 and padding = +2\n",
        "        self.pool1 = nn.MaxPool2d(kernel_size=2, stride=2) #from (32,10,28,28) to (32,10,14,14)\n",
        "        self.conv2 = nn.Conv2d(in_channels=10, out_channels=20, kernel_size=3, stride=1, padding=1) #from (32,10,14,14) to (32,20,14,14)\n",
        "        self.pool2 = nn.MaxPool2d(kernel_size=2, stride=2) #from (32,10,14,14) to (32,10,7,7)\n",
        "        self.fc1 = nn.Linear(in_features=20*7*7, out_features=120)\n",
        "        self.fc2 = nn.Linear(in_features=120, out_features=84)\n",
        "        self.fc3 = nn.Linear(in_features=84, out_features=10)\n",
        "\n",
        "    def forward(self, X):\n",
        "        X = F.relu(self.conv1(X))\n",
        "        X = self.pool1(X)\n",
        "        X = F.relu(self.conv2(X))\n",
        "        X = self.pool2(X)\n",
        "\n",
        "        # Use view to flattern data\n",
        "        X = X.view(-1, 20*7*7)\n",
        "        X = F.relu(self.fc1(X))\n",
        "        X = F.relu(self.fc2(X))\n",
        "        X = self.fc3(X)\n",
        "        return F.log_softmax(X, dim=1)\n"
      ],
      "metadata": {
        "id": "gdghwFJkc6nn"
      },
      "execution_count": 16,
      "outputs": []
    },
    {
      "cell_type": "code",
      "source": [
        "#Create an instance of model\n",
        "torch.manual_seed(42)\n",
        "model = CNN_Model()\n",
        "model"
      ],
      "metadata": {
        "colab": {
          "base_uri": "https://localhost:8080/"
        },
        "id": "m-0rb24Miqh6",
        "outputId": "83113e19-7853-4425-a23e-41d27a978028"
      },
      "execution_count": 20,
      "outputs": [
        {
          "output_type": "execute_result",
          "data": {
            "text/plain": [
              "CNN_Model(\n",
              "  (conv1): Conv2d(1, 10, kernel_size=(3, 3), stride=(1, 1), padding=(1, 1))\n",
              "  (pool1): MaxPool2d(kernel_size=2, stride=2, padding=0, dilation=1, ceil_mode=False)\n",
              "  (conv2): Conv2d(10, 20, kernel_size=(3, 3), stride=(1, 1), padding=(1, 1))\n",
              "  (pool2): MaxPool2d(kernel_size=2, stride=2, padding=0, dilation=1, ceil_mode=False)\n",
              "  (fc1): Linear(in_features=980, out_features=120, bias=True)\n",
              "  (fc2): Linear(in_features=120, out_features=84, bias=True)\n",
              "  (fc3): Linear(in_features=84, out_features=10, bias=True)\n",
              ")"
            ]
          },
          "metadata": {},
          "execution_count": 20
        }
      ]
    },
    {
      "cell_type": "code",
      "source": [
        "#Optimzer and loss\n",
        "criteria = nn.CrossEntropyLoss()\n",
        "optimizer = optim.Adam(model.parameters(), lr=0.001)"
      ],
      "metadata": {
        "id": "X6IE8rUxix2v"
      },
      "execution_count": 21,
      "outputs": []
    },
    {
      "cell_type": "code",
      "source": [
        "import time\n",
        "start = time.time()\n",
        "\n",
        "\n",
        "# Create params\n",
        "epoch = 5\n",
        "train_losses = []\n",
        "test_losses = []\n",
        "train_correct = []\n",
        "test_correct = []\n",
        "\n",
        "#Looping\n",
        "for i in range(epoch):\n",
        "    trn_corr = 0\n",
        "    tst_corr = 0\n",
        "\n",
        "    # Train\n",
        "    for b, (X_train, y_train) in enumerate(train_loader):\n",
        "        b += 1 #start the batch at 1\n",
        "        y_pred = model(X_train) #get predicted data without flattened\n",
        "        loss = criteria(y_pred, y_train) #How off the mark our data is\n",
        "\n",
        "        predicted = torch.max(y_pred.data, 1)[1] # add up the number of correct prediction. indexed off the first point\n",
        "        batch_corr = (predicted == y_train).sum() # The number of data that is correctly predicted in a batch\n",
        "        trn_corr += batch_corr\n",
        "\n",
        "        # Update params\n",
        "        optimizer.zero_grad()\n",
        "        loss.backward()\n",
        "        optimizer.step()\n",
        "\n",
        "        #display\n",
        "        if b % 450 == 0:\n",
        "            print(f'epoch: {i}  batch: {b}  loss: {loss.item()} accuracy: {trn_corr.item()*100/(32*b)}%')\n",
        "\n",
        "    train_losses.append(loss)\n",
        "    train_correct.append(trn_corr)\n",
        "\n",
        "    # Test\n",
        "    with torch.no_grad(): # No gradient -> No update weight backward\n",
        "        for b, (X_test, y_test) in enumerate(test_loader):\n",
        "            y_val = model(X_test)\n",
        "            predicted = torch.max(y_val.data, 1)[1]\n",
        "            tst_corr += (predicted == y_test).sum()\n",
        "\n",
        "        loss = criteria(y_val, y_test)\n",
        "        test_losses.append(loss)\n",
        "        test_correct.append(tst_corr)\n",
        "\n",
        "stop = time.time()\n",
        "print(f'Total time: {stop-start} seconds or {(stop-start)/60} minutes')"
      ],
      "metadata": {
        "colab": {
          "base_uri": "https://localhost:8080/"
        },
        "id": "LTUd95YfkH46",
        "outputId": "167295af-d964-4ade-a223-2c5c4ab7567c"
      },
      "execution_count": 22,
      "outputs": [
        {
          "output_type": "stream",
          "name": "stdout",
          "text": [
            "epoch: 0  batch: 450  loss: 0.08128085732460022 accuracy: 81.72916666666667%\n",
            "epoch: 0  batch: 900  loss: 0.21808575093746185 accuracy: 88.44444444444444%\n",
            "epoch: 0  batch: 1350  loss: 0.13546916842460632 accuracy: 91.05555555555556%\n",
            "epoch: 0  batch: 1800  loss: 0.013936799019575119 accuracy: 92.58854166666667%\n",
            "epoch: 1  batch: 450  loss: 0.08836116641759872 accuracy: 97.38888888888889%\n",
            "epoch: 1  batch: 900  loss: 0.048193108290433884 accuracy: 97.69791666666667%\n",
            "epoch: 1  batch: 1350  loss: 0.03977937251329422 accuracy: 97.8425925925926%\n",
            "epoch: 1  batch: 1800  loss: 0.006806275807321072 accuracy: 97.91319444444444%\n",
            "epoch: 2  batch: 450  loss: 0.010856661014258862 accuracy: 98.4375%\n",
            "epoch: 2  batch: 900  loss: 0.04258913919329643 accuracy: 98.53472222222223%\n",
            "epoch: 2  batch: 1350  loss: 0.022079797461628914 accuracy: 98.52777777777777%\n",
            "epoch: 2  batch: 1800  loss: 0.05593843758106232 accuracy: 98.49826388888889%\n",
            "epoch: 3  batch: 450  loss: 0.0021679443307220936 accuracy: 98.88888888888889%\n",
            "epoch: 3  batch: 900  loss: 0.08071084320545197 accuracy: 98.75%\n",
            "epoch: 3  batch: 1350  loss: 0.010459781624376774 accuracy: 98.76157407407408%\n",
            "epoch: 3  batch: 1800  loss: 0.010412098839879036 accuracy: 98.78645833333333%\n",
            "epoch: 4  batch: 450  loss: 0.022989919409155846 accuracy: 99.06944444444444%\n",
            "epoch: 4  batch: 900  loss: 0.034670475870370865 accuracy: 99.03819444444444%\n",
            "epoch: 4  batch: 1350  loss: 0.08410164713859558 accuracy: 99.01388888888889%\n",
            "epoch: 4  batch: 1800  loss: 0.003681086003780365 accuracy: 99.0%\n",
            "Total time: 217.7744529247284 seconds or 3.62957421541214 minutes\n"
          ]
        }
      ]
    },
    {
      "cell_type": "code",
      "source": [],
      "metadata": {
        "id": "y8BD4IppnE-E"
      },
      "execution_count": null,
      "outputs": []
    }
  ]
}