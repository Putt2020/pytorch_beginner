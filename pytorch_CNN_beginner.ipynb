{
  "nbformat": 4,
  "nbformat_minor": 0,
  "metadata": {
    "colab": {
      "provenance": [],
      "authorship_tag": "ABX9TyP5CHfdA6eGGz+IZ3N3AnvD",
      "include_colab_link": true
    },
    "kernelspec": {
      "name": "python3",
      "display_name": "Python 3"
    },
    "language_info": {
      "name": "python"
    }
  },
  "cells": [
    {
      "cell_type": "markdown",
      "metadata": {
        "id": "view-in-github",
        "colab_type": "text"
      },
      "source": [
        "<a href=\"https://colab.research.google.com/github/Putt2020/pytorch_beginner/blob/main/pytorch_CNN_beginner.ipynb\" target=\"_parent\"><img src=\"https://colab.research.google.com/assets/colab-badge.svg\" alt=\"Open In Colab\"/></a>"
      ]
    },
    {
      "cell_type": "code",
      "execution_count": 1,
      "metadata": {
        "id": "dQ9nm4k9W9hN"
      },
      "outputs": [],
      "source": [
        "import torch\n",
        "import torch.nn as nn\n",
        "import torch.nn.functional as F\n",
        "import torch.optim as optim\n",
        "from torchvision import transforms, datasets\n",
        "from torch.utils.data import DataLoader\n",
        "from torchvision.utils import make_grid\n",
        "\n",
        "import matplotlib.pyplot as plt\n",
        "import numpy as np\n",
        "import pandas as pd\n",
        "import seaborn as sns\n",
        "%matplotlib inline\n",
        "\n",
        "from sklearn.metrics import confusion_matrix\n",
        "from sklearn.metrics import classification_report\n"
      ]
    },
    {
      "cell_type": "code",
      "source": [
        "transform = transforms.ToTensor()"
      ],
      "metadata": {
        "id": "aTdl3sOIXwEe"
      },
      "execution_count": 2,
      "outputs": []
    },
    {
      "cell_type": "code",
      "source": [
        "train_data = datasets.MNIST(root='./data', train=True, download=True, transform=transform)\n",
        "test_data = datasets.MNIST(root='./data', train=False, download=True, transform=transform)\n",
        "print(train_data)"
      ],
      "metadata": {
        "colab": {
          "base_uri": "https://localhost:8080/"
        },
        "id": "s31C4A9fYodI",
        "outputId": "492e8e00-3d7b-4667-b6a8-476cdcb2c0b9"
      },
      "execution_count": 3,
      "outputs": [
        {
          "output_type": "stream",
          "name": "stdout",
          "text": [
            "Downloading http://yann.lecun.com/exdb/mnist/train-images-idx3-ubyte.gz\n",
            "Failed to download (trying next):\n",
            "HTTP Error 403: Forbidden\n",
            "\n",
            "Downloading https://ossci-datasets.s3.amazonaws.com/mnist/train-images-idx3-ubyte.gz\n",
            "Downloading https://ossci-datasets.s3.amazonaws.com/mnist/train-images-idx3-ubyte.gz to ./data/MNIST/raw/train-images-idx3-ubyte.gz\n"
          ]
        },
        {
          "output_type": "stream",
          "name": "stderr",
          "text": [
            "100%|██████████| 9912422/9912422 [00:00<00:00, 16484580.59it/s]\n"
          ]
        },
        {
          "output_type": "stream",
          "name": "stdout",
          "text": [
            "Extracting ./data/MNIST/raw/train-images-idx3-ubyte.gz to ./data/MNIST/raw\n",
            "\n",
            "Downloading http://yann.lecun.com/exdb/mnist/train-labels-idx1-ubyte.gz\n",
            "Failed to download (trying next):\n",
            "HTTP Error 403: Forbidden\n",
            "\n",
            "Downloading https://ossci-datasets.s3.amazonaws.com/mnist/train-labels-idx1-ubyte.gz\n",
            "Downloading https://ossci-datasets.s3.amazonaws.com/mnist/train-labels-idx1-ubyte.gz to ./data/MNIST/raw/train-labels-idx1-ubyte.gz\n"
          ]
        },
        {
          "output_type": "stream",
          "name": "stderr",
          "text": [
            "100%|██████████| 28881/28881 [00:00<00:00, 495850.14it/s]\n"
          ]
        },
        {
          "output_type": "stream",
          "name": "stdout",
          "text": [
            "Extracting ./data/MNIST/raw/train-labels-idx1-ubyte.gz to ./data/MNIST/raw\n",
            "\n",
            "Downloading http://yann.lecun.com/exdb/mnist/t10k-images-idx3-ubyte.gz\n",
            "Failed to download (trying next):\n",
            "HTTP Error 403: Forbidden\n",
            "\n",
            "Downloading https://ossci-datasets.s3.amazonaws.com/mnist/t10k-images-idx3-ubyte.gz\n",
            "Downloading https://ossci-datasets.s3.amazonaws.com/mnist/t10k-images-idx3-ubyte.gz to ./data/MNIST/raw/t10k-images-idx3-ubyte.gz\n"
          ]
        },
        {
          "output_type": "stream",
          "name": "stderr",
          "text": [
            "100%|██████████| 1648877/1648877 [00:00<00:00, 4525701.16it/s]\n"
          ]
        },
        {
          "output_type": "stream",
          "name": "stdout",
          "text": [
            "Extracting ./data/MNIST/raw/t10k-images-idx3-ubyte.gz to ./data/MNIST/raw\n",
            "\n",
            "Downloading http://yann.lecun.com/exdb/mnist/t10k-labels-idx1-ubyte.gz\n",
            "Failed to download (trying next):\n",
            "HTTP Error 403: Forbidden\n",
            "\n",
            "Downloading https://ossci-datasets.s3.amazonaws.com/mnist/t10k-labels-idx1-ubyte.gz\n",
            "Downloading https://ossci-datasets.s3.amazonaws.com/mnist/t10k-labels-idx1-ubyte.gz to ./data/MNIST/raw/t10k-labels-idx1-ubyte.gz\n"
          ]
        },
        {
          "output_type": "stream",
          "name": "stderr",
          "text": [
            "100%|██████████| 4542/4542 [00:00<00:00, 2316455.35it/s]"
          ]
        },
        {
          "output_type": "stream",
          "name": "stdout",
          "text": [
            "Extracting ./data/MNIST/raw/t10k-labels-idx1-ubyte.gz to ./data/MNIST/raw\n",
            "\n",
            "Dataset MNIST\n",
            "    Number of datapoints: 60000\n",
            "    Root location: ./data\n",
            "    Split: Train\n",
            "    StandardTransform\n",
            "Transform: ToTensor()\n"
          ]
        },
        {
          "output_type": "stream",
          "name": "stderr",
          "text": [
            "\n"
          ]
        }
      ]
    },
    {
      "cell_type": "code",
      "source": [
        "# Create data loader with batch size of 32\n",
        "train_loader = DataLoader(train_data, batch_size=32, shuffle=True)\n",
        "test_loader = DataLoader(test_data, batch_size=32, shuffle=False)"
      ],
      "metadata": {
        "id": "xB3WLUaeZk7t"
      },
      "execution_count": 4,
      "outputs": []
    },
    {
      "cell_type": "code",
      "source": [
        "#Define CNN Model\n",
        "\n",
        "\"\"\"\n",
        "in_channels=1, input -> WxH image with 1 channel (grayscale)\n",
        "out_channels=10, -> Amount of feature layers we want to create (will get 10xW'xH')\n",
        "kernel_size=3, -> size of the filter in this case it is 3x3\n",
        "stride=1, -> how much the filter moves in this case is 1 pixel at a time\n",
        "padding=1 -> pad the border of the image with 0 i.e. from 10x10 to 12x12\n",
        "\"\"\"\n",
        "conv1 = nn.Conv2d(in_channels=1, out_channels=10, kernel_size=3, stride=1, padding=1)\n",
        "conv2 = nn.Conv2d(in_channels=10, out_channels=20, kernel_size=3, stride=1, padding=1)"
      ],
      "metadata": {
        "id": "YodL30gSbQWx"
      },
      "execution_count": 5,
      "outputs": []
    },
    {
      "cell_type": "code",
      "source": [
        "for i, (X_train, y_train) in enumerate(train_loader):\n",
        "    print(i, X_train.shape, y_train.shape)\n",
        "    break"
      ],
      "metadata": {
        "colab": {
          "base_uri": "https://localhost:8080/"
        },
        "id": "F510Czozc3Ob",
        "outputId": "f97b9d9c-b85d-4a7f-c640-485581cd54c8"
      },
      "execution_count": 6,
      "outputs": [
        {
          "output_type": "stream",
          "name": "stdout",
          "text": [
            "0 torch.Size([32, 1, 28, 28]) torch.Size([32])\n"
          ]
        }
      ]
    },
    {
      "cell_type": "code",
      "source": [
        "# Create CNN model class\n",
        "class CNN_Model(nn.Module):\n",
        "    def __init__(self):\n",
        "        super(CNN_Model, self).__init__()\n",
        "        self.conv1 = nn.Conv2d(in_channels=1, out_channels=10, kernel_size=3, stride=1, padding=1) #from (32,1,28,28) to (32,10,28,28) becasue kernel = -2 and padding = +2\n",
        "        self.pool1 = nn.MaxPool2d(kernel_size=2, stride=2) #from (32,10,28,28) to (32,10,14,14)\n",
        "        self.conv2 = nn.Conv2d(in_channels=10, out_channels=20, kernel_size=3, stride=1, padding=1) #from (32,10,14,14) to (32,20,14,14)\n",
        "        self.pool2 = nn.MaxPool2d(kernel_size=2, stride=2) #from (32,10,14,14) to (32,10,7,7)\n",
        "        self.fc1 = nn.Linear(in_features=20*7*7, out_features=120)\n",
        "        self.fc2 = nn.Linear(in_features=120, out_features=84)\n",
        "        self.fc3 = nn.Linear(in_features=84, out_features=10)\n",
        "\n",
        "    def forward(self, X):\n",
        "        X = F.relu(self.conv1(X))\n",
        "        X = self.pool1(X)\n",
        "        X = F.relu(self.conv2(X))\n",
        "        X = self.pool2(X)\n",
        "\n",
        "        # Use view to flattern data\n",
        "        X = X.view(-1, 20*7*7)\n",
        "        X = F.relu(self.fc1(X))\n",
        "        X = F.relu(self.fc2(X))\n",
        "        X = self.fc3(X)\n",
        "        return F.log_softmax(X, dim=1)\n"
      ],
      "metadata": {
        "id": "gdghwFJkc6nn"
      },
      "execution_count": 7,
      "outputs": []
    },
    {
      "cell_type": "code",
      "source": [
        "#Create an instance of model\n",
        "torch.manual_seed(42)\n",
        "model = CNN_Model()\n",
        "model"
      ],
      "metadata": {
        "colab": {
          "base_uri": "https://localhost:8080/"
        },
        "id": "m-0rb24Miqh6",
        "outputId": "144fc772-1186-42d3-96c0-7cee7e1cea85"
      },
      "execution_count": 8,
      "outputs": [
        {
          "output_type": "execute_result",
          "data": {
            "text/plain": [
              "CNN_Model(\n",
              "  (conv1): Conv2d(1, 10, kernel_size=(3, 3), stride=(1, 1), padding=(1, 1))\n",
              "  (pool1): MaxPool2d(kernel_size=2, stride=2, padding=0, dilation=1, ceil_mode=False)\n",
              "  (conv2): Conv2d(10, 20, kernel_size=(3, 3), stride=(1, 1), padding=(1, 1))\n",
              "  (pool2): MaxPool2d(kernel_size=2, stride=2, padding=0, dilation=1, ceil_mode=False)\n",
              "  (fc1): Linear(in_features=980, out_features=120, bias=True)\n",
              "  (fc2): Linear(in_features=120, out_features=84, bias=True)\n",
              "  (fc3): Linear(in_features=84, out_features=10, bias=True)\n",
              ")"
            ]
          },
          "metadata": {},
          "execution_count": 8
        }
      ]
    },
    {
      "cell_type": "code",
      "source": [
        "#Optimzer and loss\n",
        "criteria = nn.CrossEntropyLoss()\n",
        "optimizer = optim.Adam(model.parameters(), lr=0.001)"
      ],
      "metadata": {
        "id": "X6IE8rUxix2v"
      },
      "execution_count": 9,
      "outputs": []
    },
    {
      "cell_type": "code",
      "source": [
        "import time\n",
        "start = time.time()\n",
        "\n",
        "\n",
        "# Create params\n",
        "epoch = 5\n",
        "train_losses = []\n",
        "test_losses = []\n",
        "train_correct = []\n",
        "test_correct = []\n",
        "\n",
        "#Looping\n",
        "for i in range(epoch):\n",
        "    trn_corr = 0\n",
        "    tst_corr = 0\n",
        "\n",
        "    # Train\n",
        "    for b, (X_train, y_train) in enumerate(train_loader):\n",
        "        b += 1 #start the batch at 1\n",
        "        y_pred = model(X_train) #get predicted data without flattened\n",
        "        loss = criteria(y_pred, y_train) #How off the mark our data is\n",
        "\n",
        "        predicted = torch.max(y_pred.data, 1)[1] # add up the number of correct prediction. indexed off the first point\n",
        "        batch_corr = (predicted == y_train).sum() # The number of data that is correctly predicted in a batch\n",
        "        trn_corr += batch_corr\n",
        "\n",
        "        # Update params\n",
        "        optimizer.zero_grad()\n",
        "        loss.backward()\n",
        "        optimizer.step()\n",
        "\n",
        "        #display\n",
        "        if b % 450 == 0:\n",
        "            print(f'epoch: {i}  batch: {b}  loss: {loss.item()} accuracy: {trn_corr.item()*100/(32*b)}%')\n",
        "\n",
        "    train_losses.append(loss)\n",
        "    train_correct.append(trn_corr)\n",
        "\n",
        "    # Test\n",
        "    with torch.no_grad(): # No gradient -> No update weight backward\n",
        "        for b, (X_test, y_test) in enumerate(test_loader):\n",
        "            y_val = model(X_test)\n",
        "            predicted = torch.max(y_val.data, 1)[1]\n",
        "            tst_corr += (predicted == y_test).sum()\n",
        "\n",
        "        loss = criteria(y_val, y_test)\n",
        "        test_losses.append(loss)\n",
        "        test_correct.append(tst_corr)\n",
        "\n",
        "stop = time.time()\n",
        "print(f'Total time: {stop-start} seconds or {(stop-start)/60} minutes')"
      ],
      "metadata": {
        "colab": {
          "base_uri": "https://localhost:8080/"
        },
        "id": "LTUd95YfkH46",
        "outputId": "725a6c7f-67d7-48a3-c361-829939bf4283"
      },
      "execution_count": 10,
      "outputs": [
        {
          "output_type": "stream",
          "name": "stdout",
          "text": [
            "epoch: 0  batch: 450  loss: 0.08128085732460022 accuracy: 81.72916666666667%\n",
            "epoch: 0  batch: 900  loss: 0.21808575093746185 accuracy: 88.44444444444444%\n",
            "epoch: 0  batch: 1350  loss: 0.13546916842460632 accuracy: 91.05555555555556%\n",
            "epoch: 0  batch: 1800  loss: 0.013936799019575119 accuracy: 92.58854166666667%\n",
            "epoch: 1  batch: 450  loss: 0.08836116641759872 accuracy: 97.38888888888889%\n",
            "epoch: 1  batch: 900  loss: 0.048193108290433884 accuracy: 97.69791666666667%\n",
            "epoch: 1  batch: 1350  loss: 0.03977937251329422 accuracy: 97.8425925925926%\n",
            "epoch: 1  batch: 1800  loss: 0.006806275807321072 accuracy: 97.91319444444444%\n",
            "epoch: 2  batch: 450  loss: 0.010856661014258862 accuracy: 98.4375%\n",
            "epoch: 2  batch: 900  loss: 0.04258913919329643 accuracy: 98.53472222222223%\n",
            "epoch: 2  batch: 1350  loss: 0.022079797461628914 accuracy: 98.52777777777777%\n",
            "epoch: 2  batch: 1800  loss: 0.05593843758106232 accuracy: 98.49826388888889%\n",
            "epoch: 3  batch: 450  loss: 0.0021679443307220936 accuracy: 98.88888888888889%\n",
            "epoch: 3  batch: 900  loss: 0.08071084320545197 accuracy: 98.75%\n",
            "epoch: 3  batch: 1350  loss: 0.010459781624376774 accuracy: 98.76157407407408%\n",
            "epoch: 3  batch: 1800  loss: 0.010412098839879036 accuracy: 98.78645833333333%\n",
            "epoch: 4  batch: 450  loss: 0.022989919409155846 accuracy: 99.06944444444444%\n",
            "epoch: 4  batch: 900  loss: 0.034670475870370865 accuracy: 99.03819444444444%\n",
            "epoch: 4  batch: 1350  loss: 0.08410164713859558 accuracy: 99.01388888888889%\n",
            "epoch: 4  batch: 1800  loss: 0.003681086003780365 accuracy: 99.0%\n",
            "Total time: 220.72703909873962 seconds or 3.6787839849789936 minutes\n"
          ]
        }
      ]
    },
    {
      "cell_type": "code",
      "source": [
        "#grap the loss at epoch\n",
        "train_losses = [item.item() for item in train_losses]\n",
        "# test_losses = [item.item() for item in test_losses]\n",
        "plt.plot(train_losses, label='Training Loss')\n",
        "plt.plot(test_losses, label='Testing Loss')\n",
        "plt.title('Loss at Epoch')\n",
        "plt.legend()\n",
        "#"
      ],
      "metadata": {
        "id": "y8BD4IppnE-E",
        "colab": {
          "base_uri": "https://localhost:8080/",
          "height": 469
        },
        "outputId": "1885ec2f-ceac-4682-a9d1-6408fa59d6e1"
      },
      "execution_count": 13,
      "outputs": [
        {
          "output_type": "execute_result",
          "data": {
            "text/plain": [
              "<matplotlib.legend.Legend at 0x7e2c97813100>"
            ]
          },
          "metadata": {},
          "execution_count": 13
        },
        {
          "output_type": "display_data",
          "data": {
            "text/plain": [
              "<Figure size 640x480 with 1 Axes>"
            ],
            "image/png": "[encoded data removed]"
          },
          "metadata": {}
        }
      ]
    },
    {
      "cell_type": "code",
      "source": [
        "#graph the accuracy at the end of each epoch\n",
        "plt.plot([t/600 for t in train_correct], label='Training Accuracy') # 600 come from train datasize/100\n",
        "plt.plot([t/100 for t in test_correct], label='Testing Accuracy') # 100 come from test datasize/100\n",
        "plt.title('Accuracy at Epoch')\n",
        "plt.legend()"
      ],
      "metadata": {
        "colab": {
          "base_uri": "https://localhost:8080/",
          "height": 469
        },
        "id": "SjHiFxMDlNns",
        "outputId": "a57790a0-7071-4975-8ef9-70198dd82e58"
      },
      "execution_count": 16,
      "outputs": [
        {
          "output_type": "execute_result",
          "data": {
            "text/plain": [
              "<matplotlib.legend.Legend at 0x7e2c91f4ffa0>"
            ]
          },
          "metadata": {},
          "execution_count": 16
        },
        {
          "output_type": "display_data",
          "data": {
            "text/plain": [
              "<Figure size 640x480 with 1 Axes>"
            ],
            "image/png": "[encoded data removed]"
          },
          "metadata": {}
        }
      ]
    },
    {
      "cell_type": "code",
      "source": [
        "#Save model\n",
        "torch.save(model.state_dict(), 'CNN_model.pt')"
      ],
      "metadata": {
        "id": "foxTpvwz54fg"
      },
      "execution_count": 35,
      "outputs": []
    },
    {
      "cell_type": "code",
      "source": [
        "test_load_everything = DataLoader(test_data, batch_size=10000, shuffle=False)"
      ],
      "metadata": {
        "id": "oXBuvwH6mIN6"
      },
      "execution_count": 17,
      "outputs": []
    },
    {
      "cell_type": "code",
      "source": [
        "with torch.no_grad():\n",
        "    correct = 0\n",
        "    for images, labels in test_load_everything:\n",
        "        output = model(images)\n",
        "        predicted = torch.max(output.data, 1)[1]\n",
        "        correct += (predicted == labels).sum()\n",
        "print(f'Accuracy: {correct.item()/100}%')"
      ],
      "metadata": {
        "colab": {
          "base_uri": "https://localhost:8080/"
        },
        "id": "CODsQ71Am5Jv",
        "outputId": "32509bbc-7885-47de-9d81-5e64c57ad83d"
      },
      "execution_count": 19,
      "outputs": [
        {
          "output_type": "stream",
          "name": "stdout",
          "text": [
            "Accuracy: 98.59%\n"
          ]
        }
      ]
    },
    {
      "cell_type": "code",
      "source": [
        "#function for testing new image\n",
        "def guess_image(img, label=None):\n",
        "    #Preview a test data\n",
        "    plt.imshow(img.view(28,28), interpolation='nearest')\n",
        "    if label:\n",
        "        plt.title(label)\n",
        "    else:\n",
        "        plt.title(\"An image of number\")\n",
        "    plt.show()\n",
        "\n",
        "    # Pass image through model\n",
        "    model.eval()\n",
        "    with torch.no_grad():\n",
        "        output = model(img.view(1,1,28,28))\n",
        "        print(f\"output = {output}\")\n",
        "        print(f\"answer = {output.argmax()}\")\n",
        "        if label:\n",
        "            print(f\"label = {label}\")"
      ],
      "metadata": {
        "id": "iepHBNFM2WuI"
      },
      "execution_count": 29,
      "outputs": []
    },
    {
      "cell_type": "code",
      "source": [
        "images, labels = test_data[4143]\n",
        "guess_image(images, labels)"
      ],
      "metadata": {
        "colab": {
          "base_uri": "https://localhost:8080/",
          "height": 521
        },
        "id": "LHk3w4NrnL7T",
        "outputId": "3d919e8d-4ee4-48ba-f2ec-bdc5c38273cb"
      },
      "execution_count": 32,
      "outputs": [
        {
          "output_type": "display_data",
          "data": {
            "text/plain": [
              "<Figure size 640x480 with 1 Axes>"
            ],
            "image/png": "[encoded data removed]"
          },
          "metadata": {}
        },
        {
          "output_type": "stream",
          "name": "stdout",
          "text": [
            "output = tensor([[-1.5352e+01, -1.6016e+01, -1.6932e+01, -1.4607e+01, -8.0920e+00,\n",
            "         -1.7354e+01, -2.2105e+01, -9.5468e+00, -1.0394e+01, -4.0892e-04]])\n",
            "answer = 9\n",
            "label = 9\n"
          ]
        }
      ]
    },
    {
      "cell_type": "code",
      "source": [
        "images, labels = test_data[1234]\n",
        "guess_image(images, labels)"
      ],
      "metadata": {
        "colab": {
          "base_uri": "https://localhost:8080/",
          "height": 521
        },
        "id": "YQa7yw1RoBga",
        "outputId": "3a88d320-406c-4e30-e230-d1ddfd44aaba"
      },
      "execution_count": 33,
      "outputs": [
        {
          "output_type": "display_data",
          "data": {
            "text/plain": [
              "<Figure size 640x480 with 1 Axes>"
            ],
            "image/png": "[encoded data removed]"
          },
          "metadata": {}
        },
        {
          "output_type": "stream",
          "name": "stdout",
          "text": [
            "output = tensor([[-1.6260e+01, -1.8656e+01, -1.6666e+01, -1.1548e+01, -1.7324e+01,\n",
            "         -8.4872e+00, -9.6804e+00, -2.1573e+01, -2.8046e-04, -1.3117e+01]])\n",
            "answer = 8\n",
            "label = 8\n"
          ]
        }
      ]
    },
    {
      "cell_type": "markdown",
      "source": [
        "#ONNX Convertion"
      ],
      "metadata": {
        "id": "vOmd_sCB7POP"
      }
    },
    {
      "cell_type": "code",
      "source": [
        "!pip install onnxruntime\n",
        "!pip install onnx"
      ],
      "metadata": {
        "colab": {
          "base_uri": "https://localhost:8080/"
        },
        "id": "F6KaMyUKsU3s",
        "outputId": "2a4075a1-3c24-4902-ef0f-cec2e605da1f"
      },
      "execution_count": 40,
      "outputs": [
        {
          "output_type": "stream",
          "name": "stdout",
          "text": [
            "Requirement already satisfied: onnxruntime in /usr/local/lib/python3.10/dist-packages (1.18.1)\n",
            "Requirement already satisfied: coloredlogs in /usr/local/lib/python3.10/dist-packages (from onnxruntime) (15.0.1)\n",
            "Requirement already satisfied: flatbuffers in /usr/local/lib/python3.10/dist-packages (from onnxruntime) (24.3.25)\n",
            "Requirement already satisfied: numpy<2.0,>=1.21.6 in /usr/local/lib/python3.10/dist-packages (from onnxruntime) (1.26.4)\n",
            "Requirement already satisfied: packaging in /usr/local/lib/python3.10/dist-packages (from onnxruntime) (24.1)\n",
            "Requirement already satisfied: protobuf in /usr/local/lib/python3.10/dist-packages (from onnxruntime) (3.20.3)\n",
            "Requirement already satisfied: sympy in /usr/local/lib/python3.10/dist-packages (from onnxruntime) (1.13.1)\n",
            "Requirement already satisfied: humanfriendly>=9.1 in /usr/local/lib/python3.10/dist-packages (from coloredlogs->onnxruntime) (10.0)\n",
            "Requirement already satisfied: mpmath<1.4,>=1.1.0 in /usr/local/lib/python3.10/dist-packages (from sympy->onnxruntime) (1.3.0)\n",
            "Collecting onnx\n",
            "  Downloading onnx-1.16.2-cp310-cp310-manylinux_2_17_x86_64.manylinux2014_x86_64.whl.metadata (16 kB)\n",
            "Requirement already satisfied: numpy>=1.20 in /usr/local/lib/python3.10/dist-packages (from onnx) (1.26.4)\n",
            "Requirement already satisfied: protobuf>=3.20.2 in /usr/local/lib/python3.10/dist-packages (from onnx) (3.20.3)\n",
            "Downloading onnx-1.16.2-cp310-cp310-manylinux_2_17_x86_64.manylinux2014_x86_64.whl (15.9 MB)\n",
            "\u001b[2K   \u001b[90m━━━━━━━━━━━━━━━━━━━━━━━━━━━━━━━━━━━━━━━━\u001b[0m \u001b[32m15.9/15.9 MB\u001b[0m \u001b[31m59.3 MB/s\u001b[0m eta \u001b[36m0:00:00\u001b[0m\n",
            "\u001b[?25hInstalling collected packages: onnx\n",
            "Successfully installed onnx-1.16.2\n"
          ]
        }
      ]
    },
    {
      "cell_type": "code",
      "source": [
        "device = torch.device(\"cuda\" if torch.cuda.is_available() else \"cpu\")"
      ],
      "metadata": {
        "id": "Nqmy-dKs6LnY"
      },
      "execution_count": 36,
      "outputs": []
    },
    {
      "cell_type": "code",
      "source": [
        "#convert model to onnx\n",
        "#BIG NOTE according to https://github.com/microsoft/onnxruntime/issues/11635: ONNX will only eat data in 4D if maxpooling is included: (batch_num, Number of data, Height, Width)\n",
        "torch.onnx.export(model,                                # model being run\n",
        "                  torch.randn(1, 1, 28, 28).to(device),    # model input (or a tuple for multiple inputs)\n",
        "                  \"fashion_mnist_model.onnx\",           # where to save the model (can be a file or file-like object)\n",
        "                  input_names = ['input'],              # the model's input names\n",
        "                  output_names = ['output'],            # the model's output names\n",
        "                  dynamic_axes={'input' : {0 : 'batch_size'},    # variable length axes\n",
        "                                'output' : {0 : 'batch_size'}})"
      ],
      "metadata": {
        "id": "eyg8OOQ95u6p"
      },
      "execution_count": 57,
      "outputs": []
    },
    {
      "cell_type": "code",
      "source": [
        "# Load model\n",
        "import onnx\n",
        "onnx_model = onnx.load(\"fashion_mnist_model.onnx\")\n",
        "onnx.checker.check_model(onnx_model)"
      ],
      "metadata": {
        "id": "iU0nQi5F6OFr"
      },
      "execution_count": 58,
      "outputs": []
    },
    {
      "cell_type": "code",
      "source": [
        "# Try prediction using ONNX model\n",
        "import onnxruntime as ort\n",
        "import numpy as np\n",
        "def predict_in_onnx(data):\n",
        "    x, y = data\n",
        "\n",
        "    plt.imshow(x.view(28,28), interpolation='nearest')\n",
        "    plt.title(y)\n",
        "    plt.show()\n",
        "\n",
        "    ort_sess = ort.InferenceSession('fashion_mnist_model.onnx')\n",
        "    outputs = ort_sess.run(None, {'input': x.view(1,1,28,28).numpy()})\n",
        "\n",
        "    # Print Result\n",
        "    predicted, actual = outputs[0][0].argmax(0), y\n",
        "    print(f'Predicted: \"{predicted}\", Actual: \"{actual}\"')"
      ],
      "metadata": {
        "id": "XsQxovwX94g_"
      },
      "execution_count": 66,
      "outputs": []
    },
    {
      "cell_type": "code",
      "source": [
        "predict_in_onnx(test_data[0])\n",
        "predict_in_onnx(test_data[1234])\n",
        "predict_in_onnx(test_data[4321])"
      ],
      "metadata": {
        "colab": {
          "base_uri": "https://localhost:8080/",
          "height": 1000
        },
        "id": "upFfwySK-kLo",
        "outputId": "4cc5ac47-3bdc-45c1-fd10-ad31bf226160"
      },
      "execution_count": 68,
      "outputs": [
        {
          "output_type": "display_data",
          "data": {
            "text/plain": [
              "<Figure size 640x480 with 1 Axes>"
            ],
            "image/png": "[encoded data removed]"
          },
          "metadata": {}
        },
        {
          "output_type": "stream",
          "name": "stdout",
          "text": [
            "Predicted: \"7\", Actual: \"7\"\n"
          ]
        },
        {
          "output_type": "display_data",
          "data": {
            "text/plain": [
              "<Figure size 640x480 with 1 Axes>"
            ],
            "image/png": "[encoded data removed]"
          },
          "metadata": {}
        },
        {
          "output_type": "stream",
          "name": "stdout",
          "text": [
            "Predicted: \"8\", Actual: \"8\"\n"
          ]
        },
        {
          "output_type": "display_data",
          "data": {
            "text/plain": [
              "<Figure size 640x480 with 1 Axes>"
            ],
            "image/png": "[encoded data removed]"
          },
          "metadata": {}
        },
        {
          "output_type": "stream",
          "name": "stdout",
          "text": [
            "Predicted: \"9\", Actual: \"9\"\n"
          ]
        }
      ]
    },
    {
      "cell_type": "code",
      "source": [],
      "metadata": {
        "id": "Y-hJgLrCBlR5"
      },
      "execution_count": null,
      "outputs": []
    }
  ]
}